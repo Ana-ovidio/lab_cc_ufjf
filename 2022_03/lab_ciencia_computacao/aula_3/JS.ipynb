{
  "nbformat": 4,
  "nbformat_minor": 0,
  "metadata": {
    "colab": {
      "provenance": [],
      "collapsed_sections": [],
      "authorship_tag": "ABX9TyPJWjTPCCBI/S+hNcyFjKnE",
      "include_colab_link": true
    },
    "kernelspec": {
      "name": "python3",
      "display_name": "Python 3"
    },
    "language_info": {
      "name": "python"
    }
  },
  "cells": [
    {
      "cell_type": "markdown",
      "metadata": {
        "id": "view-in-github",
        "colab_type": "text"
      },
      "source": [
        "<a href=\"https://colab.research.google.com/github/Ana-ovidio/lab_cc_ufjf/blob/main/JS.ipynb\" target=\"_parent\"><img src=\"https://colab.research.google.com/assets/colab-badge.svg\" alt=\"Open In Colab\"/></a>"
      ]
    },
    {
      "cell_type": "markdown",
      "source": [
        "## **Documentação do código para criação de uma figura fractal**\n",
        "[Ao cliclar neste link, você será destinado para o código](https://liveweave.com/06hdah)\n",
        "\n",
        "`main_canvas = document.getElementById(\"imageView\")` : Atribui a variável o ambiente web onde encntrar a imagem pelo identificador **imageView** \n",
        "\n",
        "(*Em geral, ao inspecionarmos uma página WEB é possível encontrar cada elemento que a compõe*) \n",
        "\n",
        "`var container = main_canvas.parentNode` : Considerando que a variável `main_canvas` representa um grafo, para buscar seus nós na tentativa de encontrar um elemento específico, a função *parentNode* nos auxilia. \n",
        "\n",
        "`var canvas = document.createElement('canvas')` : Possibilidade de criação de uma imagem.\n",
        "\n",
        "\n",
        "-------\n",
        "### **Construção de uma imagem**\n",
        "\n",
        "`canvas.id = \"imageTemp\"` : Nomeia o identificador da imagem\n",
        "\n",
        "`canvas.width = window.innerWidth` : Dimensão da imagem (horizontal)\n",
        "\n",
        "`canvas.height = window.innerHeight` : Dimensão da imagem (vertical)\n",
        "\n",
        "`container.appendChild(canvas)` : Possibilidade de criarmos as imagens \n",
        "\n",
        "-------\n",
        "### **Entendomento sobre a Triádica de Koch**\n",
        "\n",
        "A interação fractal é dada a partir de uma linha contínua, a partir dela subvide- se em três novas linhas e, assim, sucessivamente. \n",
        "\n",
        "A construção da figura será de acordo com as `interações` que o usuário insere. Ou seja, cada interação é relacionada às divisões feitas nas linhas. \n",
        "\n",
        "**Observação** : A triádica é resultante da formação de um triângulo a partir de cada conjunto de três linhas. \n",
        "\n",
        "![image.png](data:image/png;base64,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)"
      ],
      "metadata": {
        "id": "rBLSHxuCafKA"
      }
    },
    {
      "cell_type": "markdown",
      "source": [
        "-------\n",
        "### **Construção da Triádica de Koch**\n",
        "\n",
        "Uma vez que sabemos da formação de triâgulos a partir da divisão de uma linha em três. (Relção de linha pai e de linhas filhas)\n",
        "\n",
        "`var kochHeight = Math.tan(60 /180*Math.PI) * kochWidth / 2;` = Passo para a inclinação das linhas na tentativa de formar uma figura triangular. \n",
        "\n",
        "A figura fractal depende das interações, uma vez que as divisões não apresentam um limite superior. E para determinação da função, existem três opções:\n",
        "\n",
        "- Não retornar nada caso não exista interação; \n",
        "- Retornar uma linha (caso a interação seja nula, uma vez que não há subdivisão ainda);\n",
        "- Retornar as n subdivisões para n>0\n",
        "\n",
        "        // se nao tem interacao, n retorna o desenho triangulo\n",
        "        if (depth < 0) {\n",
        "            return;\n",
        "        }\n",
        "      \n",
        "        var C = divide(add(multiply(A, 2), B), 3);\n",
        "        var D = divide(add(multiply(B, 2), A), 3);\n",
        "        var F = divide(add(A, B), 2);\n",
        "\n",
        "        var V1 = divide(minus(F, A), length(F, A));\n",
        "        var V2 = [V1[1], -V1[0]];\n",
        "\n",
        "        var E = add(multiply(V2, Math.sqrt(3) / 6 * length(B, A)), F);\n",
        "\n",
        "        // IGNORE warning e compare com == mesmo sendo 0, senao o triangulo equilatero unico nao ira aparecer!\n",
        "        if(depth == 0){\n",
        "            DrawLine(A, B, color);\n",
        "        }\n",
        "        // recursividade\n",
        "        koch(A, C, depth - 1, color);\n",
        "        koch(C, E, depth - 1, color);\n",
        "        koch(E, D, depth - 1, color);\n",
        "        koch(D, B, depth - 1, color);\n",
        "    }\n",
        "\n"
      ],
      "metadata": {
        "id": "5a3-ClvOr5A7"
      }
    }
  ]
}